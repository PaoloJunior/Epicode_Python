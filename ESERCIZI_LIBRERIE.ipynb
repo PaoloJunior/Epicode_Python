{
 "cells": [
  {
   "cell_type": "code",
   "execution_count": 1,
   "id": "276d6bfe-bec6-482f-a3aa-b3f8a0d82ee0",
   "metadata": {},
   "outputs": [
    {
     "data": {
      "text/plain": [
       "numpy.ndarray"
      ]
     },
     "execution_count": 1,
     "metadata": {},
     "output_type": "execute_result"
    }
   ],
   "source": [
    "import numpy as np\n",
    "list=[1,2,3,4,5]\n",
    "array=np.array(list)\n",
    "type(array)"
   ]
  },
  {
   "cell_type": "code",
   "execution_count": 6,
   "id": "4f88df74-f72e-4866-9b7e-68dab148381d",
   "metadata": {},
   "outputs": [
    {
     "data": {
      "text/html": [
       "<div>\n",
       "<style scoped>\n",
       "    .dataframe tbody tr th:only-of-type {\n",
       "        vertical-align: middle;\n",
       "    }\n",
       "\n",
       "    .dataframe tbody tr th {\n",
       "        vertical-align: top;\n",
       "    }\n",
       "\n",
       "    .dataframe thead th {\n",
       "        text-align: right;\n",
       "    }\n",
       "</style>\n",
       "<table border=\"1\" class=\"dataframe\">\n",
       "  <thead>\n",
       "    <tr style=\"text-align: right;\">\n",
       "      <th></th>\n",
       "      <th>cybersecurity</th>\n",
       "      <th>data_analyst</th>\n",
       "    </tr>\n",
       "  </thead>\n",
       "  <tbody>\n",
       "    <tr>\n",
       "      <th>anno1</th>\n",
       "      <td>10</td>\n",
       "      <td>40</td>\n",
       "    </tr>\n",
       "    <tr>\n",
       "      <th>anno2</th>\n",
       "      <td>20</td>\n",
       "      <td>50</td>\n",
       "    </tr>\n",
       "    <tr>\n",
       "      <th>anno3</th>\n",
       "      <td>30</td>\n",
       "      <td>60</td>\n",
       "    </tr>\n",
       "  </tbody>\n",
       "</table>\n",
       "</div>"
      ],
      "text/plain": [
       "       cybersecurity  data_analyst\n",
       "anno1             10            40\n",
       "anno2             20            50\n",
       "anno3             30            60"
      ]
     },
     "execution_count": 6,
     "metadata": {},
     "output_type": "execute_result"
    }
   ],
   "source": [
    "import pandas as pd\n",
    "data={\"cybersecurity\": [10, 20, 30],\n",
    "      \"data_analyst\":[40, 50, 60]}\n",
    "studenti=pd.DataFrame(data, index=[\"anno1\",\"anno2\",\"anno3\"])\n",
    "studenti\n"
   ]
  },
  {
   "cell_type": "code",
   "execution_count": 10,
   "id": "622cb05f-d863-4526-9eb2-487b56d2eb43",
   "metadata": {},
   "outputs": [
    {
     "data": {
      "text/plain": [
       "0    1\n",
       "1    2\n",
       "2    3\n",
       "3    4\n",
       "4    5\n",
       "5    6\n",
       "6    7\n",
       "dtype: int64"
      ]
     },
     "execution_count": 10,
     "metadata": {},
     "output_type": "execute_result"
    }
   ],
   "source": [
    "import pandas as pd\n",
    "pd.Series([1,2,3,4,5,6,7])"
   ]
  },
  {
   "cell_type": "code",
   "execution_count": 12,
   "id": "8965f17c-225a-4967-8749-48530732519a",
   "metadata": {},
   "outputs": [
    {
     "data": {
      "text/plain": [
       "a    1\n",
       "b    2\n",
       "c    3\n",
       "d    4\n",
       "e    5\n",
       "f    6\n",
       "g    7\n",
       "dtype: int64"
      ]
     },
     "execution_count": 12,
     "metadata": {},
     "output_type": "execute_result"
    }
   ],
   "source": [
    "import pandas as pd\n",
    "pd.Series([1,2,3,4,5,6,7], \n",
    "          index=list(\"abcdefg\"))"
   ]
  },
  {
   "cell_type": "code",
   "execution_count": 14,
   "id": "5ce90e7e-eabd-4a4c-9908-5a77aa812b7f",
   "metadata": {},
   "outputs": [],
   "source": [
    "import pandas \n",
    "mat=[[0,1,2,3,4],[3,6,7,8,9],[10,11,12,13,14]]\n"
   ]
  },
  {
   "cell_type": "code",
   "execution_count": 18,
   "id": "0289f52d-2ab9-4da4-8a60-1f0e8e2ac053",
   "metadata": {},
   "outputs": [
    {
     "data": {
      "text/plain": [
       "360.0"
      ]
     },
     "execution_count": 18,
     "metadata": {},
     "output_type": "execute_result"
    }
   ],
   "source": [
    "import math\n",
    "math.degrees(math.pi*2)"
   ]
  },
  {
   "cell_type": "code",
   "execution_count": 73,
   "id": "ac65ba43-f38c-4432-92cb-2ad3ff56ba08",
   "metadata": {},
   "outputs": [
    {
     "data": {
      "text/html": [
       "<div>\n",
       "<style scoped>\n",
       "    .dataframe tbody tr th:only-of-type {\n",
       "        vertical-align: middle;\n",
       "    }\n",
       "\n",
       "    .dataframe tbody tr th {\n",
       "        vertical-align: top;\n",
       "    }\n",
       "\n",
       "    .dataframe thead th {\n",
       "        text-align: right;\n",
       "    }\n",
       "</style>\n",
       "<table border=\"1\" class=\"dataframe\">\n",
       "  <thead>\n",
       "    <tr style=\"text-align: right;\">\n",
       "      <th></th>\n",
       "      <th>Quantita</th>\n",
       "    </tr>\n",
       "  </thead>\n",
       "  <tbody>\n",
       "    <tr>\n",
       "      <th>Gennaio</th>\n",
       "      <td>2000</td>\n",
       "    </tr>\n",
       "    <tr>\n",
       "      <th>Febbraio</th>\n",
       "      <td>5000</td>\n",
       "    </tr>\n",
       "    <tr>\n",
       "      <th>Marzo</th>\n",
       "      <td>4445</td>\n",
       "    </tr>\n",
       "    <tr>\n",
       "      <th>Aprile</th>\n",
       "      <td>22</td>\n",
       "    </tr>\n",
       "    <tr>\n",
       "      <th>Maggio</th>\n",
       "      <td>2355</td>\n",
       "    </tr>\n",
       "    <tr>\n",
       "      <th>Ggiugno</th>\n",
       "      <td>5325</td>\n",
       "    </tr>\n",
       "    <tr>\n",
       "      <th>Luglio</th>\n",
       "      <td>5253</td>\n",
       "    </tr>\n",
       "    <tr>\n",
       "      <th>Agosto</th>\n",
       "      <td>1111</td>\n",
       "    </tr>\n",
       "    <tr>\n",
       "      <th>Settembre</th>\n",
       "      <td>3333</td>\n",
       "    </tr>\n",
       "    <tr>\n",
       "      <th>Ottobre</th>\n",
       "      <td>4444</td>\n",
       "    </tr>\n",
       "    <tr>\n",
       "      <th>Novembre</th>\n",
       "      <td>3333</td>\n",
       "    </tr>\n",
       "    <tr>\n",
       "      <th>Dicembre</th>\n",
       "      <td>5435</td>\n",
       "    </tr>\n",
       "  </tbody>\n",
       "</table>\n",
       "</div>"
      ],
      "text/plain": [
       "           Quantita\n",
       "Gennaio        2000\n",
       "Febbraio       5000\n",
       "Marzo          4445\n",
       "Aprile           22\n",
       "Maggio         2355\n",
       "Ggiugno        5325\n",
       "Luglio         5253\n",
       "Agosto         1111\n",
       "Settembre      3333\n",
       "Ottobre        4444\n",
       "Novembre       3333\n",
       "Dicembre       5435"
      ]
     },
     "execution_count": 73,
     "metadata": {},
     "output_type": "execute_result"
    }
   ],
   "source": [
    "Quantita={\"Quantita\": [2000, 5000, 4445, 22, 2355, 5325, 5253, 1111, 3333, 4444, 3333, 5435]}\n",
    "mese=pd.DataFrame(Quantita,index=[\"Gennaio\",\"Febbraio\",\n",
    "                                   \"Marzo\",\"Aprile\",\"Maggio\",\"Ggiugno\",\"Luglio\",\"Agosto\",\"Settembre\",\"Ottobre\",\"Novembre\",\"Dicembre\"])\n",
    "mese"
   ]
  },
  {
   "cell_type": "code",
   "execution_count": 81,
   "id": "9946c9c7-49f4-4d39-a5eb-c3dfcb5ffb2a",
   "metadata": {},
   "outputs": [
    {
     "name": "stdout",
     "output_type": "stream",
     "text": [
      "Quantita    5435\n",
      "dtype: int64\n"
     ]
    }
   ],
   "source": [
    "print(mese.max())"
   ]
  },
  {
   "cell_type": "code",
   "execution_count": 79,
   "id": "6de01840-7861-4883-9c0b-571ce22bac09",
   "metadata": {},
   "outputs": [
    {
     "name": "stdout",
     "output_type": "stream",
     "text": [
      "Il mese con più vendite è: Dicembre\n"
     ]
    }
   ],
   "source": [
    "mese_con_piu_vendite = mese['Quantita'].idxmax()\n",
    "print(\"Il mese con più vendite è:\", mese_con_piu_vendite)"
   ]
  },
  {
   "cell_type": "code",
   "execution_count": 77,
   "id": "c293b483-d10d-4a22-9446-2e3d657ff0fc",
   "metadata": {},
   "outputs": [
    {
     "name": "stdout",
     "output_type": "stream",
     "text": [
      "Il mese con meno vendite è: Aprile\n"
     ]
    }
   ],
   "source": [
    "mese_con_meno_vendite = mese['Quantita'].idxmin()\n",
    "print(\"Il mese con meno vendite è:\", mese_con_meno_vendite)"
   ]
  },
  {
   "cell_type": "code",
   "execution_count": 75,
   "id": "cdb898b7-83eb-489a-b608-c9cac7646dc0",
   "metadata": {},
   "outputs": [
    {
     "name": "stdout",
     "output_type": "stream",
     "text": [
      "Mesi con vendite superiori a 3999:\n",
      "          Quantita\n",
      "Febbraio      5000\n",
      "Marzo         4445\n",
      "Ggiugno       5325\n",
      "Luglio        5253\n",
      "Ottobre       4444\n",
      "Dicembre      5435\n"
     ]
    }
   ],
   "source": [
    "mesi_superiori_3999 = mese[mese[\"Quantita\"] > 3999]\n",
    "\n",
    "print(\"Mesi con vendite superiori a 3999:\")\n",
    "print(mesi_superiori_3999)"
   ]
  },
  {
   "cell_type": "code",
   "execution_count": 105,
   "id": "aece80ee-e8fb-4547-a8d2-45ee98c6a71c",
   "metadata": {},
   "outputs": [
    {
     "name": "stdout",
     "output_type": "stream",
     "text": [
      "lo stipendio raddoppiato è: 200\n",
      "lo stipendio raddoppiato è: 400\n",
      "lo stipendio raddoppiato è: 600\n",
      "lo stipendio raddoppiato è: 800\n",
      "lo stipendio raddoppiato è: 800\n",
      "lo stipendio raddoppiato è: 1000\n",
      "lo stipendio raddoppiato è: 680\n",
      "lo stipendio raddoppiato è: 1012\n"
     ]
    }
   ],
   "source": [
    "import numpy as np\n",
    "stipendi=np.array([100,200, 300, 400, 400, 500, 340, 506])\n",
    "for stipendio in stipendi:\n",
    "    stipendio_doppio=stipendio*2\n",
    "    print(\"lo stipendio raddoppiato è:\",stipendio_doppio)"
   ]
  },
  {
   "cell_type": "code",
   "execution_count": 111,
   "id": "39c22348-f11b-44c2-845b-87570bfdee46",
   "metadata": {},
   "outputs": [
    {
     "name": "stdout",
     "output_type": "stream",
     "text": [
      "lo stipendio raddoppiato è: [ 200  400  600  800  800 1000  680 1012]\n"
     ]
    }
   ],
   "source": [
    "print(\"lo stipendio raddoppiato è:\",stipendi*2)"
   ]
  },
  {
   "cell_type": "code",
   "execution_count": null,
   "id": "ee32dcf2-c642-4d26-8167-8e978fde0cb6",
   "metadata": {},
   "outputs": [],
   "source": []
  }
 ],
 "metadata": {
  "kernelspec": {
   "display_name": "Python 3 (ipykernel)",
   "language": "python",
   "name": "python3"
  },
  "language_info": {
   "codemirror_mode": {
    "name": "ipython",
    "version": 3
   },
   "file_extension": ".py",
   "mimetype": "text/x-python",
   "name": "python",
   "nbconvert_exporter": "python",
   "pygments_lexer": "ipython3",
   "version": "3.11.7"
  }
 },
 "nbformat": 4,
 "nbformat_minor": 5
}
