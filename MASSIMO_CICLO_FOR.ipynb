{
 "cells": [
  {
   "cell_type": "code",
   "execution_count": 30,
   "id": "9439e7cf-0b23-4f2c-9d79-947c7f3074fb",
   "metadata": {},
   "outputs": [
    {
     "name": "stdout",
     "output_type": "stream",
     "text": [
      "1\n",
      "2\n",
      "4\n",
      "8\n",
      "16\n",
      "Finito\n"
     ]
    }
   ],
   "source": [
    "base=2\n",
    "esponente=0\n",
    "risultato=base**esponente\n",
    "while risultato<25:\n",
    "    print(risultato)\n",
    "    esponente+=1\n",
    "    risultato=base**esponente\n",
    "print(\"Finito\")"
   ]
  },
  {
   "cell_type": "code",
   "execution_count": 26,
   "id": "0303dca0-cfea-4e42-bbd6-6cb60243cc41",
   "metadata": {},
   "outputs": [
    {
     "name": "stdout",
     "output_type": "stream",
     "text": [
      "2\n",
      "4\n",
      "8\n",
      "16\n",
      "32\n",
      "64\n",
      "128\n",
      "256\n",
      "512\n",
      "1024\n",
      "Ho finito\n"
     ]
    }
   ],
   "source": [
    "num=2\n",
    "while num<=2**10:\n",
    "    print(num)\n",
    "    num*=2\n",
    "print(\"Ho finito\")\n"
   ]
  },
  {
   "cell_type": "code",
   "execution_count": 11,
   "id": "a814eda6-d5ef-4807-9951-622348b6175f",
   "metadata": {},
   "outputs": [
    {
     "name": "stdout",
     "output_type": "stream",
     "text": [
      "1\n",
      "2\n",
      "4\n",
      "8\n",
      "16\n",
      "32\n",
      "64\n",
      "128\n",
      "256\n",
      "512\n",
      "1024\n",
      "finito\n"
     ]
    }
   ],
   "source": [
    "esponente=0\n",
    "while esponente <=10:\n",
    "    print(2**esponente)\n",
    "    esponente+=1\n",
    "print(\"Finito\")"
   ]
  },
  {
   "cell_type": "code",
   "execution_count": 17,
   "id": "c4b8755f-1905-4cef-a5af-0d350550b1d2",
   "metadata": {},
   "outputs": [
    {
     "name": "stdin",
     "output_type": "stream",
     "text": [
      "inserisci una lista di numeri superiore a tre e separati da spazi: 1 2 1 0 2 3 4 5 3 3 1 3 6 5 1 1 4 6 3\n"
     ]
    },
    {
     "name": "stdout",
     "output_type": "stream",
     "text": [
      "la radice è unica e vale: -1.0\n",
      "l'equazione non è di secondo grado ma di primo e il risultato è: -1.5\n",
      "le radici sono complesse e coniugate e sono: (-0.625+0.5994789404140899j) e (-0.625-0.5994789404140899j)\n",
      "le radici sono complesse e coniugate e sono: (-0.16666666666666666+0.9860132971832694j) e (-0.16666666666666666-0.9860132971832694j)\n",
      "l'equazioni ha due radici reali e distinte che sono: -0.3333333333333333 , -0.5\n",
      "le radici sono complesse e coniugate e sono: (-2+1.4142135623730951j) e (-2-1.4142135623730951j)\n",
      "non ho abbastanza numeri per continuare\n"
     ]
    }
   ],
   "source": [
    "lista_numeri=input(\"inserisci una lista di numeri superiore a tre e separati da spazi:\")\n",
    "lista_numeri=lista_numeri.split()\n",
    "lista_numeri=list(map(int,lista_numeri))\n",
    "i=0\n",
    "if len(lista_numeri)<3:\n",
    "    print(\"non hai inserito abbastanza numeri\")\n",
    "else:\n",
    "    while i+2<len(lista_numeri):\n",
    "        a=lista_numeri[i]\n",
    "        b=lista_numeri[i+1]\n",
    "        c=lista_numeri[i+2]\n",
    "        delta=b*b-(4*a*c)\n",
    "        if a==0:\n",
    "            x=((-c)/b)\n",
    "            print(\"l'equazione non è di secondo grado ma di primo e il risultato è:\",x)\n",
    "        elif a!= 0 and delta>0:\n",
    "            x1= (-b+(delta**0.5))/(2*a)\n",
    "            x2= (-b-(delta**0.5))/(2*a)\n",
    "            print(\"l'equazioni ha due radici reali e distinte che sono:\",x1,\",\",x2)\n",
    "        elif a!=0 and delta==0:\n",
    "            x=-b/(2*a)\n",
    "            print(\"la radice è unica e vale:\",x)\n",
    "        elif a!=0 and delta<0:\n",
    "            x_re= (-b)/(2*a)\n",
    "            x_imm= ((abs(delta))**0.5)/(2*a)\n",
    "            x1=complex(x_re,x_imm)\n",
    "            x2=complex(x_re,-x_imm)\n",
    "            \n",
    "            print(\"le radici sono complesse e coniugate e sono:\",x1,\"e\",x2)\n",
    "        i=i+3\n",
    "    if i+2>= len(lista_numeri):\n",
    "            print(\"non ho abbastanza numeri per continuare\")    \n",
    "    "
   ]
  },
  {
   "cell_type": "code",
   "execution_count": null,
   "id": "4562123f-1862-4729-a08e-c211a2661819",
   "metadata": {},
   "outputs": [],
   "source": [
    "risultato=0\n",
    "while risultato<152:\n",
    "    num=input(\"inserisci un numero:\")\n",
    "    num=int(num)\n",
    "    risultato=risultato+num\n",
    "print(\"il risultato è:\",risultato)"
   ]
  },
  {
   "cell_type": "code",
   "execution_count": null,
   "id": "284acdf3-007d-48ef-8b27-c6321a1132d1",
   "metadata": {},
   "outputs": [],
   "source": [
    "# Lista dei 5 numeri\n",
    "numeri = [23, 45, 12, 67, 34]\n",
    "\n",
    "# Inizializza il massimo al primo numero della lista\n",
    "massimo = numeri[0]\n",
    "\n",
    "# Itera attraverso i numeri\n",
    "#PER INTENTRARE IL CODICE VADO A CAPO E POI DEVO DARE IL TASTO TAB\n",
    "for numero in numeri:\n",
    "    if numero > massimo:\n",
    "        massimo = numero\n",
    "\n",
    "# Stampa il massimo\n",
    "print(\"Il massimo è:\", massimo)"
   ]
  },
  {
   "cell_type": "code",
   "execution_count": null,
   "id": "ceb05c7e-ec96-4896-8e5f-3b3f6fc0e0d3",
   "metadata": {},
   "outputs": [],
   "source": [
    "# Definisci la lista di numeri\n",
    "numeri = [3, 7, 1, 9, 4]\n",
    "\n",
    "# Inizializza la variabile max_num al primo elemento della lista\n",
    "max_num = numeri[0]\n",
    "\n",
    "# Inizializza l'indice\n",
    "i = 1\n",
    "\n",
    "# Ciclo while per scorrere la lista\n",
    "while i < len(numeri):\n",
    "    if numeri[i] > max_num:\n",
    "        max_num = numeri[i]\n",
    "    i = i + 1  # Incrementa l'indice di 1\n",
    "\n",
    "# Stampa il numero massimo\n",
    "print(\"Il numero massimo è:\", max_num)"
   ]
  },
  {
   "cell_type": "code",
   "execution_count": null,
   "id": "01f4404d-a134-456d-bafa-04c80c515553",
   "metadata": {},
   "outputs": [],
   "source": [
    "numero=input(\"inserisci un numero\")\n",
    "\n",
    "\n",
    "# Lista per memorizzare i fattori\n",
    "fattori = []\n",
    "num=int(numero) #casting\n",
    "# Ciclo per trovare i fattori\n",
    "#Perché (1, numero + 1)?\n",
    "#Quando scrivi range(1, numero + 1), stai dicendo a Python di generare una sequenza\n",
    "#di numeri che inizia da 1 e termina a numero (incluso). Questo perché range è esclusivo del \n",
    "#valore di fine, quindi per includere numero nell'intervallo, devi scrivere numero + 1.\n",
    "for i in range(1, num//2+1 ):\n",
    "    if num % i == 0:\n",
    "        fattori.append(i)\n",
    "\n",
    "# Stampa i fattori\n",
    "print(\"I fattori di\", numero, \"sono:\", fattori)"
   ]
  },
  {
   "cell_type": "code",
   "execution_count": null,
   "id": "01d773de-206b-44e5-b0af-035d4f28daf8",
   "metadata": {},
   "outputs": [],
   "source": [
    "parola = input(\"Inserisci una parola: \")\n",
    "primi_tre=parola[:3] \n",
    "ultimi_tre=parola[-3:]\n",
    "sintesi_parola=primi_tre + \"...\" + ultimi_tre\n",
    "if len(parola) >= 7:\n",
    " print(sintesi_parola)\n",
    "else: \n",
    " print(\"la parola è troppo corta\")"
   ]
  },
  {
   "cell_type": "code",
   "execution_count": null,
   "id": "7ae8f9a2-23e7-4273-9f3a-2a2dc8353513",
   "metadata": {},
   "outputs": [],
   "source": []
  },
  {
   "cell_type": "code",
   "execution_count": null,
   "id": "818480f4-6981-4066-97b6-56388dbafe53",
   "metadata": {},
   "outputs": [],
   "source": []
  }
 ],
 "metadata": {
  "kernelspec": {
   "display_name": "Python 3 (ipykernel)",
   "language": "python",
   "name": "python3"
  },
  "language_info": {
   "codemirror_mode": {
    "name": "ipython",
    "version": 3
   },
   "file_extension": ".py",
   "mimetype": "text/x-python",
   "name": "python",
   "nbconvert_exporter": "python",
   "pygments_lexer": "ipython3",
   "version": "3.11.7"
  }
 },
 "nbformat": 4,
 "nbformat_minor": 5
}
